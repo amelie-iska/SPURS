{
 "cells": [
  {
   "cell_type": "code",
   "execution_count": 3,
   "metadata": {},
   "outputs": [],
   "source": [
    "from spurs.inference import get_SPURS, parse_pdb\n",
    "# ~ 10s\n",
    "model, cfg = get_SPURS('../data/checkpoints/spurs')\n",
    "pdb_name = 'DOCK1_MOUSE'\n",
    "pdb_path = '../data/inference_example/' + pdb_name + '.pdb'\n",
    "chain = 'A'\n",
    "pdb = parse_pdb(pdb_path, pdb_name, chain, cfg)\n",
    "# ~ 1s\n",
    "result = model(pdb,return_logist=True)"
   ]
  },
  {
   "cell_type": "code",
   "execution_count": 8,
   "metadata": {},
   "outputs": [
    {
     "data": {
      "text/plain": [
       "(torch.Size([66, 20]), 66)"
      ]
     },
     "execution_count": 8,
     "metadata": {},
     "output_type": "execute_result"
    }
   ],
   "source": [
    "# result length and pdb length should be the same\n",
    "result.shape,len(pdb['seq'])"
   ]
  }
 ],
 "metadata": {
  "kernelspec": {
   "display_name": "spurs2",
   "language": "python",
   "name": "python3"
  },
  "language_info": {
   "codemirror_mode": {
    "name": "ipython",
    "version": 3
   },
   "file_extension": ".py",
   "mimetype": "text/x-python",
   "name": "python",
   "nbconvert_exporter": "python",
   "pygments_lexer": "ipython3",
   "version": "3.7.16"
  }
 },
 "nbformat": 4,
 "nbformat_minor": 2
}
